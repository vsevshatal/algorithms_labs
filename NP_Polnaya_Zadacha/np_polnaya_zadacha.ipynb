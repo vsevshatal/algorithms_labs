{
 "cells": [
  {
   "cell_type": "code",
   "execution_count": 66,
   "metadata": {},
   "outputs": [
    {
     "name": "stdout",
     "output_type": "stream",
     "text": [
      "{2, 4, 6}\n"
     ]
    },
    {
     "data": {
      "image/png": "[encoded data removed]",
      "text/plain": [
       "<Figure size 280x210 with 1 Axes>"
      ]
     },
     "metadata": {},
     "output_type": "display_data"
    }
   ],
   "source": [
    "from networkx.algorithms.matching import maximal_matching\n",
    "\n",
    "__all__ = [\"min_weighted_dominating_set\",\n",
    "           \"min_edge_dominating_set\"]\n",
    "\n",
    "\n",
    "\n",
    "def min_weighted_dominating_set(G, weight=None):\n",
    "    if len(G) == 0:\n",
    "        return set()\n",
    "\n",
    "    dom_set = set()\n",
    "\n",
    "    def _cost(node_and_neighborhood):\n",
    "        v, neighborhood = node_and_neighborhood\n",
    "        return G.nodes[v].get(weight, 1) / len(neighborhood - dom_set)\n",
    "\n",
    "\n",
    "    vertices = set(G)\n",
    "\n",
    "    neighborhoods = {v: {v} | set(G[v]) for v in G}\n",
    "\n",
    "\n",
    "    while vertices:\n",
    "\n",
    "        dom_node, min_set = min(neighborhoods.items(), key=_cost)\n",
    "        dom_set.add(dom_node)\n",
    "        del neighborhoods[dom_node]\n",
    "        vertices -= min_set\n",
    "\n",
    "    return dom_set\n",
    "\n",
    "\n",
    "\n",
    "def min_edge_dominating_set(G):\n",
    "   \n",
    "    if not G:\n",
    "        raise ValueError(\"Expected non-empty NetworkX graph!\")\n",
    "    return maximal_matching(G)\n",
    "\n",
    "import networkx\n",
    "from networkx.algorithms.dominating import dominating_set\n",
    "from networkx.algorithms.dominating import is_dominating_set\n",
    "\n",
    "import matplotlib.pyplot as plt\n",
    "w = 4\n",
    "h = 3\n",
    "d = 70\n",
    "plt.figure(figsize=(w, h), dpi=d)\n",
    "G = networkx.Graph()\n",
    "H = networkx.path_graph(8)\n",
    "G.add_edges_from(H.edges())\n",
    "G.add_edges_from([(0, 1)])\n",
    "G.add_edges_from([(0, 2)])\n",
    "G.add_edges_from([(2, 3)])\n",
    "G.add_edges_from([(1, 4)])\n",
    "G.add_edges_from([(2, 5)])\n",
    "G.add_edges_from([(4, 7)])\n",
    "\n",
    "color_map = []\n",
    "\n",
    "domi = min_weighted_dominating_set(G)\n",
    "print(domi)\n",
    "\n",
    "for node in G:\n",
    "    if node in domi:\n",
    "        color_map.append('wheat')\n",
    "    else: \n",
    "        color_map.append('aquamarine')      \n",
    "networkx.draw(G, node_color=color_map, with_labels=True)\n",
    "\n",
    "plt.show()"
   ]
  },
  {
   "cell_type": "code",
   "execution_count": null,
   "metadata": {},
   "outputs": [],
   "source": []
  }
 ],
 "metadata": {
  "kernelspec": {
   "display_name": "Python 3",
   "language": "python",
   "name": "python3"
  },
  "language_info": {
   "codemirror_mode": {
    "name": "ipython",
    "version": 3
   },
   "file_extension": ".py",
   "mimetype": "text/x-python",
   "name": "python",
   "nbconvert_exporter": "python",
   "pygments_lexer": "ipython3",
   "version": "3.7.6"
  }
 },
 "nbformat": 4,
 "nbformat_minor": 4
}
